{
 "cells": [
  {
   "cell_type": "code",
   "execution_count": 33,
   "metadata": {},
   "outputs": [
    {
     "name": "stdout",
     "output_type": "stream",
     "text": [
      "0  :  253.620021909\n",
      "10  :  467.504110653\n",
      "20  :  512.1642938\n",
      "30  :  428.534932128\n",
      "40  :  296.815166626\n",
      "50  :  174.996527202\n",
      "60  :  87.9022273337\n",
      "70  :  36.8198963643\n",
      "80  :  12.3576974666\n",
      "90  :  3.49376161\n",
      "100  :  1.81834443426\n"
     ]
    }
   ],
   "source": [
    "import numpy as np\n",
    "\n",
    "y = np.array([8.04, 6.95, 7.58, 8.81, 8.33, 9.96, 7.24, 4.26, 10.84, 4.82, 5.68])\n",
    "x = np.array([10., 8., 13., 9., 11., 14., 6., 4., 12., 7., 5.])\n",
    "sizeOfTrainingSet = len(x)\n",
    "\n",
    "# Design matrix\n",
    "designMatrix = np.vstack((np.ones(sizeOfTrainingSet), x, x**2, x**3)).T\n",
    "\n",
    "# Learning rate\n",
    "alpha = 0.000001\n",
    "beta = 0.95\n",
    "\n",
    "# Initial parameters\n",
    "teta = np.array([2., 1.,0.1, 0.001])\n",
    "zeta = np.zeros(4)\n",
    "\n",
    "print\n",
    "\n",
    "for index in range(101):\n",
    "    error = y - designMatrix.dot(teta)\n",
    "    sumOfSqErr = np.sum(error**2)/(sizeOfTrainingSet)\n",
    "    \n",
    "    gradient = -2.*designMatrix.T.dot(error)/sizeOfTrainingSet\n",
    "    if index%10==0:\n",
    "        print(index, \" : \", sumOfSqErr)\n",
    "    \n",
    "    zeta = gradient + beta * zeta\n",
    "    teta = teta - alpha * zeta\n",
    "\n"
   ]
  }
 ],
 "metadata": {
  "kernelspec": {
   "display_name": "Python 3",
   "language": "python",
   "name": "python3"
  },
  "language_info": {
   "codemirror_mode": {
    "name": "ipython",
    "version": 3
   },
   "file_extension": ".py",
   "mimetype": "text/x-python",
   "name": "python",
   "nbconvert_exporter": "python",
   "pygments_lexer": "ipython3",
   "version": "3.6.2"
  }
 },
 "nbformat": 4,
 "nbformat_minor": 2
}
