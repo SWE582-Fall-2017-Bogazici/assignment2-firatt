{
 "cells": [
  {
   "cell_type": "code",
   "execution_count": 56,
   "metadata": {},
   "outputs": [
    {
     "name": "stdout",
     "output_type": "stream",
     "text": [
      "0  :  253.620021909\n",
      "1000  :  17.5953594369\n",
      "2000  :  3.67301962978\n",
      "3000  :  2.12836220688\n",
      "4000  :  1.65507726412\n",
      "5000  :  1.44304806606\n",
      "6000  :  1.34264699597\n",
      "7000  :  1.29477877544\n",
      "8000  :  1.27191148857\n",
      "9000  :  1.2609570199\n",
      "10000  :  1.25567974155\n"
     ]
    }
   ],
   "source": [
    "import numpy as np\n",
    "\n",
    "y = np.array([8.04, 6.95, 7.58, 8.81, 8.33, 9.96, 7.24, 4.26, 10.84, 4.82, 5.68])\n",
    "x = np.array([10., 8., 13., 9., 11., 14., 6., 4., 12., 7., 5.])\n",
    "sizeOfTrainingSet = len(x)\n",
    "\n",
    "# Design matrix\n",
    "designMatrix = np.vstack((np.ones(N), x, x**2, x**3)).T\n",
    "\n",
    "# Learning rate\n",
    "alpha = 0.000000572\n",
    "\n",
    "# Initial parameters\n",
    "teta = np.array([2., 1.,0.1, 0.001])\n",
    "\n",
    "for index in range(10001):\n",
    "    error = y - designMatrix.dot(teta)\n",
    "    sumOfSqErr = np.sum(error**2)/(N)\n",
    "    \n",
    "    \n",
    "    if (index%1000==0):\n",
    "        print(index,\" : \",sumOfSqErr)\n",
    "    \n",
    "    gradient = -2.*A.T.dot(error)/N\n",
    "    teta = teta - alpha * gradient\n"
   ]
  }
 ],
 "metadata": {
  "kernelspec": {
   "display_name": "Python 3",
   "language": "python",
   "name": "python3"
  },
  "language_info": {
   "codemirror_mode": {
    "name": "ipython",
    "version": 3
   },
   "file_extension": ".py",
   "mimetype": "text/x-python",
   "name": "python",
   "nbconvert_exporter": "python",
   "pygments_lexer": "ipython3",
   "version": "3.6.2"
  }
 },
 "nbformat": 4,
 "nbformat_minor": 2
}
