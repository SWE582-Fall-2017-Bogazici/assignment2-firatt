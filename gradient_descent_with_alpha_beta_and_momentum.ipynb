{
 "cells": [
  {
   "cell_type": "code",
   "execution_count": 244,
   "metadata": {},
   "outputs": [
    {
     "name": "stdout",
     "output_type": "stream",
     "text": [
      "Alpha is    :  8e-08\n",
      "Error @ 0  :  253.620021909\n",
      " \n",
      "Alpha is    :  1.40987334656e-07\n",
      "Error @ 10  :  59.781458206\n",
      " \n",
      "Alpha is    :  2.484678566675367e-07\n",
      "Error @ 20  :  29.8696688363\n",
      " \n",
      "Alpha is    :  4.3788526074056294e-07\n",
      "Error @ 30  :  10.6248051762\n",
      " \n",
      "Alpha is    :  7.717034474619946e-07\n",
      "Error @ 40  :  9.0163130011\n",
      " \n",
      "Alpha is    :  4.440833151122986e-07\n",
      "Error @ 50  :  6.35116001758\n",
      " \n",
      "Alpha is    :  8.344539503591313e-08\n",
      "Error @ 60  :  5.9482049121\n",
      " \n",
      "Alpha is    :  8.959881067026194e-09\n",
      "Error @ 70  :  5.89113683963\n",
      " \n",
      "Alpha is    :  9.620599039731777e-10\n",
      "Error @ 80  :  5.88384354514\n",
      " \n",
      "Alpha is    :  1.0330039560894252e-10\n",
      "Error @ 90  :  5.88310708989\n",
      " \n",
      "Alpha is    :  1.109179552010676e-11\n",
      "Error @ 100  :  5.88303132403\n",
      " \n"
     ]
    }
   ],
   "source": [
    "import numpy as np\n",
    "\n",
    "y = np.array([8.04, 6.95, 7.58, 8.81, 8.33, 9.96, 7.24, 4.26, 10.84, 4.82, 5.68])\n",
    "x = np.array([10., 8., 13., 9., 11., 14., 6., 4., 12., 7., 5.])\n",
    "sizeOfTrainingSet = len(x)\n",
    "\n",
    "# Design matrix\n",
    "designMatrix = np.vstack((np.ones(sizeOfTrainingSet), x, x**2, x**3)).T\n",
    "\n",
    "# Learning rate\n",
    "alpha = 0.0000001\n",
    "beta = 0.95\n",
    "\n",
    "# Initial parameters\n",
    "teta = np.array([2., 1.,0.1, 0.001])\n",
    "zeta = np.zeros(4)\n",
    "\n",
    "sumOfSqErr_rez = np.inf\n",
    "for index in range(101):\n",
    "    error = y - designMatrix.dot(teta)\n",
    "    \n",
    "    # Adaptive Alpha\n",
    "    sumOfSqErr = np.sum(error**2)/(sizeOfTrainingSet)\n",
    "    \n",
    "    if sumOfSqErr_rez < sumOfSqErr and alpha > 1e-3:\n",
    "        alpha = alpha * 10000\n",
    "    elif sumOfSqErr_rez < sumOfSqErr:\n",
    "        alpha = alpha * 1.4\n",
    "    else:\n",
    "        alpha = alpha * 0.8\n",
    "\n",
    "\n",
    "    sumOfSqErr_rez = sumOfSqErr\n",
    "\n",
    "    gradient = -2.*designMatrix.T.dot(error)/sizeOfTrainingSet\n",
    "    if index%10==0:\n",
    "        print(\"Alpha is    : \", alpha)\n",
    "        print(\"Error @\",index, \" : \", sumOfSqErr)\n",
    "        print(\" \")\n",
    "    zeta = gradient + beta * zeta\n",
    "    teta = teta - alpha * zeta\n",
    "\n",
    "\n"
   ]
  }
 ],
 "metadata": {
  "kernelspec": {
   "display_name": "Python 3",
   "language": "python",
   "name": "python3"
  },
  "language_info": {
   "codemirror_mode": {
    "name": "ipython",
    "version": 3
   },
   "file_extension": ".py",
   "mimetype": "text/x-python",
   "name": "python",
   "nbconvert_exporter": "python",
   "pygments_lexer": "ipython3",
   "version": "3.6.2"
  }
 },
 "nbformat": 4,
 "nbformat_minor": 2
}
