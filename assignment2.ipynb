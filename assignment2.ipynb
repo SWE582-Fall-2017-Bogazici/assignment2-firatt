{
 "cells": [
  {
   "cell_type": "code",
   "execution_count": 1,
   "metadata": {},
   "outputs": [
    {
     "name": "stdout",
     "output_type": "stream",
     "text": [
      "0 : 253.620021909\n",
      "1 : 251.913914932\n",
      "2 : 250.219709044\n",
      "3 : 248.537321226\n",
      "4 : 246.866669041\n",
      "5 : 245.207670624\n",
      "6 : 243.560244685\n",
      "7 : 241.924310497\n",
      "8 : 240.299787898\n",
      "9 : 238.686597286\n"
     ]
    }
   ],
   "source": [
    "%matplotlib inline\n",
    "import matplotlib.pylab as plt\n",
    "\n",
    "import time\n",
    "from IPython import display\n",
    "import numpy as np\n",
    "\n",
    "#y = np.array([7.46, 6.77, 12.74, 7.11, 7.81, 8.84, 6.08, 5.39, 8.15, 6.42, 5.73])\n",
    "y = np.array([8.04, 6.95, 7.58, 8.81, 8.33, 9.96, 7.24, 4.26, 10.84, 4.82, 5.68])\n",
    "#y = np.array([9.14, 8.14, 8.74, 8.77, 9.26, 8.10, 6.13, 3.10, 9.13, 7.26, 4.74])\n",
    "x = np.array([10., 8., 13., 9., 11., 14., 6., 4., 12., 7., 5.])\n",
    "\n",
    "N = len(x)\n",
    "\n",
    "# Design matrix\n",
    "A = np.vstack((np.ones(N),x, x**2, x**3)).T\n",
    "\n",
    "# Learning rate\n",
    "\n",
    "eta = 0.0000005\n",
    "beta = 0.95551\n",
    "              \n",
    "# initial parameters\n",
    "w = np.array([2., 1.,.1,.001])\n",
    "p = np.zeros_like(w)\n",
    "\n",
    "for epoch in range(1000000):\n",
    "    # Error\n",
    "    err = y-A.dot(w)\n",
    "    \n",
    "    # Total error\n",
    "    E = np.sum(err**2)/N\n",
    "    \n",
    "    # Gradient\n",
    "    dE = -2.*A.T.dot(err)/N\n",
    "    \n",
    "    if epoch%10000 == 0: \n",
    "        print(epoch,':',E)\n",
    "        #print(w)    \n",
    "\n",
    "    # Perfom one descent step\n",
    "    p = dE + beta*p\n",
    "    w = w - eta*p\n",
    "\n"
   ]
  }
 ],
 "metadata": {
  "kernelspec": {
   "display_name": "Python 3",
   "language": "python",
   "name": "python3"
  },
  "language_info": {
   "codemirror_mode": {
    "name": "ipython",
    "version": 3
   },
   "file_extension": ".py",
   "mimetype": "text/x-python",
   "name": "python",
   "nbconvert_exporter": "python",
   "pygments_lexer": "ipython3",
   "version": "3.6.2"
  }
 },
 "nbformat": 4,
 "nbformat_minor": 2
}
